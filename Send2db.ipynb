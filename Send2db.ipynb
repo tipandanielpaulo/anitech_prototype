{
 "cells": [
  {
   "cell_type": "code",
   "execution_count": 1,
   "id": "horizontal-greek",
   "metadata": {},
   "outputs": [],
   "source": [
    "import psycopg2\n",
    "import pandas as pd"
   ]
  },
  {
   "cell_type": "code",
   "execution_count": 2,
   "id": "essential-spain",
   "metadata": {},
   "outputs": [],
   "source": [
    "host = \"ec2-35-168-145-180.compute-1.amazonaws.com\"\n",
    "dbname = \"d39n6sb6mps83v\"\n",
    "user = \"tlmojlfzsqvceh\"\n",
    "password = \"c6d0b0a6ce827b5ab182a15ad863662628cdc4c159aa87ad1015e352d2659299\"\n",
    "sslmode = \"require\"\n",
    "conn_string = \"host={0} user={1} dbname={2} password={3} sslmode={4}\".format(host, user, dbname, password, sslmode)\n",
    "\n",
    "def get_conn_sys():\n",
    "    return psycopg2.connect(conn_string) "
   ]
  },
  {
   "cell_type": "code",
   "execution_count": 6,
   "id": "deluxe-courtesy",
   "metadata": {
    "scrolled": true
   },
   "outputs": [
    {
     "data": {
      "text/html": [
       "<div>\n",
       "<style scoped>\n",
       "    .dataframe tbody tr th:only-of-type {\n",
       "        vertical-align: middle;\n",
       "    }\n",
       "\n",
       "    .dataframe tbody tr th {\n",
       "        vertical-align: top;\n",
       "    }\n",
       "\n",
       "    .dataframe thead th {\n",
       "        text-align: right;\n",
       "    }\n",
       "</style>\n",
       "<table border=\"1\" class=\"dataframe\">\n",
       "  <thead>\n",
       "    <tr style=\"text-align: right;\">\n",
       "      <th></th>\n",
       "      <th>table_name</th>\n",
       "    </tr>\n",
       "  </thead>\n",
       "  <tbody>\n",
       "    <tr>\n",
       "      <th>0</th>\n",
       "      <td>anitech</td>\n",
       "    </tr>\n",
       "    <tr>\n",
       "      <th>1</th>\n",
       "      <td>rq_table</td>\n",
       "    </tr>\n",
       "  </tbody>\n",
       "</table>\n",
       "</div>"
      ],
      "text/plain": [
       "  table_name\n",
       "0    anitech\n",
       "1   rq_table"
      ]
     },
     "execution_count": 6,
     "metadata": {},
     "output_type": "execute_result"
    }
   ],
   "source": [
    "query= \"\"\"\n",
    "SELECT table_name\n",
    "  FROM information_schema.tables\n",
    " WHERE table_schema='public'\n",
    "   AND table_type='BASE TABLE';\n",
    "\"\"\"\n",
    "\n",
    "df = pd.read_sql(query,get_conn_sys())\n",
    "df.head()"
   ]
  },
  {
   "cell_type": "code",
   "execution_count": 15,
   "id": "secure-sport",
   "metadata": {},
   "outputs": [
    {
     "data": {
      "text/html": [
       "<div>\n",
       "<style scoped>\n",
       "    .dataframe tbody tr th:only-of-type {\n",
       "        vertical-align: middle;\n",
       "    }\n",
       "\n",
       "    .dataframe tbody tr th {\n",
       "        vertical-align: top;\n",
       "    }\n",
       "\n",
       "    .dataframe thead th {\n",
       "        text-align: right;\n",
       "    }\n",
       "</style>\n",
       "<table border=\"1\" class=\"dataframe\">\n",
       "  <thead>\n",
       "    <tr style=\"text-align: right;\">\n",
       "      <th></th>\n",
       "      <th>id</th>\n",
       "      <th>date</th>\n",
       "      <th>co2x</th>\n",
       "      <th>o2xx</th>\n",
       "      <th>temp</th>\n",
       "      <th>humi</th>\n",
       "      <th>type</th>\n",
       "    </tr>\n",
       "  </thead>\n",
       "  <tbody>\n",
       "    <tr>\n",
       "      <th>0</th>\n",
       "      <td>1</td>\n",
       "      <td>2021-07-02 00:02:48.932854</td>\n",
       "      <td>400.0</td>\n",
       "      <td>21.23</td>\n",
       "      <td>25.12</td>\n",
       "      <td>54.23</td>\n",
       "      <td>try_insert</td>\n",
       "    </tr>\n",
       "  </tbody>\n",
       "</table>\n",
       "</div>"
      ],
      "text/plain": [
       "   id                       date   co2x   o2xx   temp   humi        type\n",
       "0   1 2021-07-02 00:02:48.932854  400.0  21.23  25.12  54.23  try_insert"
      ]
     },
     "execution_count": 15,
     "metadata": {},
     "output_type": "execute_result"
    }
   ],
   "source": [
    "query= \"\"\"\n",
    "SELECT * FROM rq_table;\n",
    "\n",
    "\"\"\"\n",
    "\n",
    "df = pd.read_sql(query,get_conn_sys())\n",
    "df.head()"
   ]
  },
  {
   "cell_type": "code",
   "execution_count": 8,
   "id": "female-description",
   "metadata": {},
   "outputs": [
    {
     "name": "stdout",
     "output_type": "stream",
     "text": [
      "2021-07-02 00:02:48.932854 400 21.23 25.12 54.23\n"
     ]
    }
   ],
   "source": [
    "from datetime import datetime\n",
    "\n",
    "date = datetime.now()\n",
    "co2x = 400\n",
    "o2xx = 21.23\n",
    "temp = 25.12\n",
    "humi = 54.23\n",
    "typx = \"try_insert\"\n",
    "print(date, co2x, o2xx, temp, humi)"
   ]
  },
  {
   "cell_type": "code",
   "execution_count": 11,
   "id": "collective-smart",
   "metadata": {},
   "outputs": [],
   "source": [
    "conn = psycopg2.connect(conn_string)\n",
    "cursor = conn.cursor()\n",
    "\n",
    "cursor.execute(\"INSERT INTO rq_table(id, date, co2x, o2xx, temp, humi, type)VALUES(%s,%s,%s,%s,%s,%s,%s)\", \n",
    "               (1, date, co2x, o2xx,temp,humi, typx))\n",
    "conn.commit()\n",
    "cursor.close()\n",
    "conn.close()"
   ]
  },
  {
   "cell_type": "code",
   "execution_count": null,
   "id": "quick-lightweight",
   "metadata": {},
   "outputs": [],
   "source": [
    "host = \"ec2-54-84-98-18.compute-1.amazonaws.com\"\n",
    "dbname = \"d34nik16h69tsc\"\n",
    "user = \"xypdaowttfpuwg\"\n",
    "password = \"6a5a8b6a1d31b236095a69e89b82a1bca9d436423a55590643747863febe5d3a\"\n",
    "sslmode = \"require\"\n",
    "conn_string = \"host={0} user={1} dbname={2} password={3} sslmode={4}\".format(host, user, dbname, password, sslmode)\n",
    "\n",
    "\n",
    "def create_connection_psql(db_file):\n",
    "    \"\"\"\n",
    "    Connect To the PostgreSQL\n",
    "    \n",
    "    \"\"\"\n",
    "    conn = None\n",
    "    try:\n",
    "        conn = psycopg2.connect(conn_string)\n",
    "    except Error as e:\n",
    "        print(e)\n",
    "    return conn\n",
    "\n",
    "def insert_data_psql(conn, data):\n",
    "    \"\"\"\n",
    "    Insert Data to the PostgreSQL Database\n",
    "    \"\"\"\n",
    "    query = \"\"\"\n",
    "    INSERT INTO whouse(whouse_id, whouse_temp, whouse_hum, whouse_dt) VALUES(%s, %s, %s, %s)\n",
    "    \"\"\"\n",
    "    cur = conn.cursor()\n",
    "    cur.execute(query, data)\n",
    "    conn.commit()\n",
    "    return cur.lastrowid\n",
    "    "
   ]
  },
  {
   "cell_type": "code",
   "execution_count": null,
   "id": "immediate-teacher",
   "metadata": {},
   "outputs": [],
   "source": [
    "conn = create_connection_psql(conn_string)\n",
    "with conn:\n",
    "    data = (whouse_id, whouse_temp,whouse_hum, whouse_dt)\n",
    "    inject_data = insert_data_psql(conn, data)"
   ]
  },
  {
   "cell_type": "code",
   "execution_count": null,
   "id": "laden-conflict",
   "metadata": {},
   "outputs": [],
   "source": []
  }
 ],
 "metadata": {
  "kernelspec": {
   "display_name": "Python 3",
   "language": "python",
   "name": "python3"
  },
  "language_info": {
   "codemirror_mode": {
    "name": "ipython",
    "version": 3
   },
   "file_extension": ".py",
   "mimetype": "text/x-python",
   "name": "python",
   "nbconvert_exporter": "python",
   "pygments_lexer": "ipython3",
   "version": "3.8.5"
  }
 },
 "nbformat": 4,
 "nbformat_minor": 5
}
